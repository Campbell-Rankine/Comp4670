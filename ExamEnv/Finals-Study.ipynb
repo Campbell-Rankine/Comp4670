{
 "cells": [
  {
   "cell_type": "code",
   "execution_count": 2,
   "id": "d1389c47-e7d7-452f-92cb-a3a16a64429b",
   "metadata": {},
   "outputs": [],
   "source": [
    "from typing import Tuple\n",
    "import numpy as np\n",
    "from scipy.optimize import minimize\n",
    "import matplotlib.pyplot as plt"
   ]
  },
  {
   "cell_type": "code",
   "execution_count": 3,
   "id": "2a35d7a6-e919-481d-85ba-0814e2d5ca9d",
   "metadata": {},
   "outputs": [
    {
     "name": "stdout",
     "output_type": "stream",
     "text": [
      "[[ 0.5        -0.353       0.2853    ]\n",
      " [-0.353       0.249218   -0.2014218 ]\n",
      " [ 0.2853     -0.2014218   0.16279218]]\n"
     ]
    }
   ],
   "source": [
    "#This is an example of PCA calculation, might wanna review your first lab if you can find it\n",
    "q18 = [[1,0],[-1.412/2, 0],[1.1412/2, 0]]\n",
    "print(np.cov(q18))"
   ]
  },
  {
   "cell_type": "code",
   "execution_count": 7,
   "id": "771bae7e-b61e-46c6-8bf5-8b1eef7d6351",
   "metadata": {},
   "outputs": [],
   "source": [
    "S, V, D = np.linalg.svd(np.cov(q18))"
   ]
  },
  {
   "cell_type": "code",
   "execution_count": 12,
   "id": "527db6ee-cd88-434f-b8a0-e92d2a4de433",
   "metadata": {},
   "outputs": [
    {
     "name": "stdout",
     "output_type": "stream",
     "text": [
      "[[-1.35056298e+00  0.00000000e+00]\n",
      " [ 1.98452923e-16  0.00000000e+00]\n",
      " [-1.58429830e-17  0.00000000e+00]]\n"
     ]
    }
   ],
   "source": [
    "d = D[0:2] #Get first two principal components\n",
    "print(D @ q18)"
   ]
  },
  {
   "cell_type": "code",
   "execution_count": null,
   "id": "ed06e7e1-49c5-4ff4-8051-905e6ac4aeac",
   "metadata": {},
   "outputs": [],
   "source": [
    "#Here we have our PCA implementation\n",
    "# replace this with your solution, add and remove code and markdown cells as appropriate\n",
    "\n",
    "def centre(data):\n",
    "    ms = np.mean(data, axis=1)\n",
    "    Mcols = np.zeros(shape=(5,200))\n",
    "    for i, x in enumerate(data):\n",
    "        Mcols[i] = (x-ms[i])\n",
    "    return Mcols\n",
    "\n",
    "def PCA(data, k): #data is of shape (n_features, n_samples) k = n_pc\n",
    "    Mcols = centre(data)\n",
    "    n=data.shape[1]\n",
    "    \n",
    "    cov = (1/(n-1))*(np.dot(Mcols, Mcols.T))\n",
    "    \n",
    "    Ev, Evec = np.linalg.eigh(cov)\n",
    "    print(Evec.shape)\n",
    "    print(Evec[0:k].shape)\n",
    "    \n",
    "    pc_n = Evec[0:k] @ data\n",
    "    \n",
    "    print(pc_n.shape)\n",
    "    \n",
    "    return(Evec[:, k], pc_n)"
   ]
  },
  {
   "cell_type": "code",
   "execution_count": null,
   "id": "8f40adfc-d2ed-4a24-bb2f-6ec46ea432dc",
   "metadata": {},
   "outputs": [],
   "source": [
    "#EM Algorithm (Review lectures and take notes)\n",
    "#Then implement\n",
    "\n",
    "ds = [2, 5, 4, 6, 3, 8, 12, 3, 4, 9] #times\n",
    "p0 = lambda t : 0.5*np.exp(-0.5*t)\n",
    "p1 = lambda t : 0.1 * np.exp(-0.1 * t) #probability functions\n",
    "\n",
    "gamma0 = [p0(ti) for ti in ds]\n",
    "gamma1 = [p1(ti) for ti in ds]\n",
    "gamma = np.stack([gamma1, gamma2], axis=-1)\n",
    "\n",
    "gamma = gamma / gamma.sum(axis=-1, keepdims=True) #Finds weighted responsibilities\n",
    "print(\"gamma: \" + str(gamma))\n",
    "ds = np.array(ds).reshape(-1,1) #transpose\n",
    "njs = gamma.sum(axis=0)\n",
    "\n",
    "print(njs, njs.sum())\n",
    "\n",
    "lambdas = njs/(gamma*ts).sum(axis=0) #final answer"
   ]
  }
 ],
 "metadata": {
  "kernelspec": {
   "display_name": "Python 3 (ipykernel)",
   "language": "python",
   "name": "python3"
  },
  "language_info": {
   "codemirror_mode": {
    "name": "ipython",
    "version": 3
   },
   "file_extension": ".py",
   "mimetype": "text/x-python",
   "name": "python",
   "nbconvert_exporter": "python",
   "pygments_lexer": "ipython3",
   "version": "3.9.7"
  }
 },
 "nbformat": 4,
 "nbformat_minor": 5
}
